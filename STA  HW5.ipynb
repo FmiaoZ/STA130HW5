{
 "cells": [
  {
   "cell_type": "markdown",
   "id": "d3b0721a",
   "metadata": {},
   "source": [
    "# Question 2"
   ]
  },
  {
   "cell_type": "markdown",
   "id": "5f9ed72e",
   "metadata": {},
   "source": [
    "2. Towards the end of the \"first pre-lecture\" video (above) it is stated that, \"It is important to note that outcomes of tests refer to the population parameter, rather than the sample statistic! As such, the result that we get is for the population.\" In terms of the distinctions between the concepts of \n",
    "'s, \n",
    ", \n",
    ", and \n",
    ", how would you describe what the sentence above means? Explain this concisely in your own words for a \"non-statsitical\" audience, defining the technical statistical terminology you use in your answer."
   ]
  },
  {
   "cell_type": "markdown",
   "id": "40592cc6",
   "metadata": {},
   "source": [
    "The sentence is explaining that when we conduct statistical tests, the results apply to the entire population we're interested in, not just the specific group (sample) we tested. Here’s a breakdown in simpler terms:\n",
    "\n",
    "- Population: This is the entire group we want to learn about \n",
    "- Sample: This is a smaller group taken from the population \n",
    "- Statistic: This is a number that describes something about the sample \n",
    "- Parameter: This is the true value we're trying to figure out for the whole population\n",
    "\n",
    "The sentence is saying that the result of a statistical test is giving us information about the parameter (the true population value), not just the statistic (the sample value). So, even though we only test a sample, the result helps us understand something about the entire population."
   ]
  },
  {
   "cell_type": "markdown",
   "id": "e3e19369",
   "metadata": {},
   "source": [
    "# Question 4"
   ]
  },
  {
   "cell_type": "markdown",
   "id": "1ea93bbe",
   "metadata": {},
   "source": [
    "- The null hypothesis is a statement we assume to be true at the beginning, usually something like \"there is no effect\" or \"there is no difference\" (e.g., a new medication has no effect on patients).\n",
    "  \n",
    "- The p-value tells us how likely we are to get the data we observed if the null hypothesis were true. A **high p-value** means the data we got is pretty normal if the null hypothesis is true, so we don't have much reason to doubt it.\n",
    "\n",
    "- A low p-value, on the other hand, means that the data we observed would be very unlikely if the null hypothesis were true. It suggests that something unusual is happening—so, the lower the p-value, the more evidence we have that the null hypothesis might not be true.\n",
    "\n",
    "Therefore, when the p-value is very small, it makes the null hypothesis seem \"ridiculous\" because it implies that the outcome we observed would be extremely rare if the null hypothesis were correct. In other words, it's like saying, \"If the null hypothesis were true, this result shouldn't really happen—but it did, so maybe the null hypothesis is wrong.\""
   ]
  },
  {
   "cell_type": "markdown",
   "id": "579b83f0",
   "metadata": {},
   "source": [
    "# Question 8"
   ]
  },
  {
   "cell_type": "markdown",
   "id": "5ce2f1f4",
   "metadata": {},
   "source": [
    "## Problem Introduction\n",
    "\n",
    "This project involves replicating an experiment similar to Ronald Fisher's famous tea-tasting experiment. In the original experiment, Dr. Muriel Bristol claimed she could tell whether milk or tea was poured first into a cup, and Fisher designed a hypothesis test to see if she was just guessing or if she could truly tell the difference. In this version of the experiment, we test STA130 students to see if they can correctly identify whether milk or tea was poured first. We sampled 80 students, and 49 of them correctly identified the order.\n",
    "\n",
    "## Relationship Between This Experiment and Fisher's Original Experiment\n",
    "\n",
    "In Fisher’s original experiment, the population of interest was Dr. Muriel Bristol's ability to discern whether milk or tea was poured first. The experiment was designed to see if her correct responses could be explained by random guessing. Similarly, in this experiment, we are testing whether the 49 correct responses from 80 STA130 students could be explained by random guessing. The difference is that this experiment involves a larger sample size and a less personal context (Bristol was one person with a specific claim, while here we sample many students from a general population).\n",
    "\n",
    "## Statements of the Null Hypothesis and Alternative Hypothesis\n",
    "\n",
    "- **Null Hypothesis (\\( H_0 \\))**: The STA130 students are randomly guessing whether the tea or milk was poured first. Formally, the null hypothesis assumes the probability of a correct guess is 0.5, or \\( p = 0.5 \\).\n",
    "\n",
    "- **Alternative Hypothesis (\\( H_A \\))**: The STA130 students are not just guessing; they have some ability to correctly identify whether tea or milk was poured first. Formally, this implies that \\( p > 0.5 \\), where \\( p \\) is the proportion of correct responses.\n",
    "\n",
    "\n",
    "## Quantitative Analysis\n",
    "\n",
    "To test this hypothesis, we need to perform a **one-sample proportion test**. We will compare the observed proportion of students who correctly identified the order (49/80) to the null hypothesis proportion (0.5).\n",
    "\n",
    "- **Observed Test Statistic**: The observed proportion of correct answers is \\( \\hat{p} = \\frac{49}{80} = 0.6125 \\).\n",
    "\n",
    "- **Null Hypothesis Proportion**: Under the null hypothesis, \\( p = 0.5 \\), meaning that if students are guessing, we expect half of them to be correct.\n",
    "\n",
    "The goal is to determine if the observed proportion of 0.6125 is significantly greater than 0.5, which would suggest that students are not simply guessing.\n",
    "\n",
    "## Findings and Discussion\n",
    "\n",
    "After running the Z-test for proportions, we will compare the p-value to a significance level (commonly \\( \\alpha = 0.05 \\)). If the p-value is smaller than the significance level, we reject the null hypothesis and conclude that students are not just guessing.\n",
    "\n",
    "### Example Interpretation:\n",
    "- If the **p-value is very small** (e.g., less than 0.05), it suggests that the observed result (49 correct answers) would be very unlikely to occur if students were simply guessing. This would provide evidence against the null hypothesis and suggest that students can correctly identify the order of tea and milk more often than by chance.\n",
    "  \n",
    "- If the **p-value is larger than 0.05**, we do not have enough evidence to reject the null hypothesis, meaning the results are consistent with students randomly guessing.\n",
    "\n",
    "## Conclusion Regarding the Null Hypothesis\n",
    "\n",
    "Based on the outcome of the Z-test, we will either reject or fail to reject the null hypothesis.\n",
    "\n",
    "- **If the p-value is small**, we reject the null hypothesis and conclude that STA130 students seem to have some ability to correctly identify the order of tea and milk.\n",
    "  \n",
    "- **If the p-value is large**, we fail to reject the null hypothesis, meaning the evidence suggests that students are likely guessing, and there is no significant ability to correctly identify the order.\n"
   ]
  },
  {
   "cell_type": "code",
   "execution_count": 7,
   "id": "92a39a4a",
   "metadata": {},
   "outputs": [
    {
     "name": "stdout",
     "output_type": "stream",
     "text": [
      "Z-value: 2.0125\n",
      "P-value: 0.0221\n"
     ]
    }
   ],
   "source": [
    "import scipy.stats as stats\n",
    "import math\n",
    "\n",
    "\n",
    "p_hat = 49 / 80  \n",
    "p_0 = 0.5  \n",
    "n = 80\n",
    "\n",
    "\n",
    "z = (p_hat - p_0) / math.sqrt((p_0 * (1 - p_0)) / n)\n",
    "p_value = 1 - stats.norm.cdf(z)  \n",
    "\n",
    "\n",
    "print(f\"Z-value: {z:.4f}\")\n",
    "print(f\"P-value: {p_value:.4f}\")\n"
   ]
  },
  {
   "cell_type": "markdown",
   "id": "bdbb5e4b",
   "metadata": {},
   "source": [
    "The p value is less than 0.05 we cannot reject the null hypothesis, So the students guessed the results simply randomly."
   ]
  },
  {
   "cell_type": "code",
   "execution_count": null,
   "id": "fe88ee5a",
   "metadata": {},
   "outputs": [],
   "source": []
  }
 ],
 "metadata": {
  "kernelspec": {
   "display_name": "Python 3 (ipykernel)",
   "language": "python",
   "name": "python3"
  },
  "language_info": {
   "codemirror_mode": {
    "name": "ipython",
    "version": 3
   },
   "file_extension": ".py",
   "mimetype": "text/x-python",
   "name": "python",
   "nbconvert_exporter": "python",
   "pygments_lexer": "ipython3",
   "version": "3.11.6"
  }
 },
 "nbformat": 4,
 "nbformat_minor": 5
}
